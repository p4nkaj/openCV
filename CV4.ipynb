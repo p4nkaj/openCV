{
 "cells": [
  {
   "cell_type": "markdown",
   "metadata": {},
   "source": [
    "## finding center"
   ]
  },
  {
   "cell_type": "code",
   "execution_count": 1,
   "metadata": {},
   "outputs": [],
   "source": [
    "import cv2\n",
    "import numpy as np\n",
    "import imutils"
   ]
  },
  {
   "cell_type": "code",
   "execution_count": 7,
   "metadata": {},
   "outputs": [
    {
     "data": {
      "text/plain": [
       "-1"
      ]
     },
     "execution_count": 7,
     "metadata": {},
     "output_type": "execute_result"
    }
   ],
   "source": [
    "image=cv2.imread('pic1.jpg')\n",
    "gray=cv2.cvtColor(image,cv2.COLOR_BGR2GRAY)\n",
    "blur=cv2.GaussianBlur(gray,(5,5),0)\n",
    "tresh=cv2.threshold(blur,60,255,cv2.THRESH_BINARY)[1]\n",
    "cv2.imshow('image',tresh)\n",
    "cv2.waitKey(0)"
   ]
  },
  {
   "cell_type": "code",
   "execution_count": 15,
   "metadata": {},
   "outputs": [],
   "source": [
    "t=tresh.copy()\n",
    "cnts=cv2.findContours(t,cv2.RETR_EXTERNAL,cv2.CHAIN_APPROX_SIMPLE)\n",
    "cnts = imutils.grab_contours(cnts)\n",
    "for c in cnts:\n",
    "    # compute the center of the contour\n",
    "    M = cv2.moments(c)\n",
    "    if M[\"m00\"] != 0:\n",
    "        cX = int(M[\"m10\"] / M[\"m00\"])\n",
    "        cY = int(M[\"m01\"] / M[\"m00\"])\n",
    "    else:\n",
    "    # set values as what you need in the situation\n",
    "        cX, cY = 0, 0\n",
    "    # draw the contour and center of the shape on the image\n",
    "    cv2.drawContours(image, [c], -1, (0, 255, 0), 2)\n",
    "    cv2.circle(image, (cX, cY), 7, (255, 255, 255), -1)\n",
    "    cv2.putText(image, \"center\", (cX - 20, cY - 20),cv2.FONT_HERSHEY_SIMPLEX, 0.5, (255, 255, 255), 2)\n",
    "\n",
    "    # show the image\n",
    "    cv2.imshow(\"Image\", image)\n",
    "    cv2.waitKey(0)"
   ]
  },
  {
   "cell_type": "markdown",
   "metadata": {},
   "source": [
    "## finding shape of image"
   ]
  },
  {
   "cell_type": "code",
   "execution_count": 19,
   "metadata": {},
   "outputs": [],
   "source": [
    "image=cv2.imread('pic2.png')\n",
    "lower = np.array([0, 0, 0])\n",
    "upper = np.array([15, 15, 15])\n",
    "shapeMask = cv2.inRange(image, lower, upper)"
   ]
  },
  {
   "cell_type": "code",
   "execution_count": 20,
   "metadata": {},
   "outputs": [
    {
     "name": "stdout",
     "output_type": "stream",
     "text": [
      "I found 6 black shapes\n"
     ]
    }
   ],
   "source": [
    "cnts = cv2.findContours(shapeMask.copy(), cv2.RETR_EXTERNAL,\n",
    "\tcv2.CHAIN_APPROX_SIMPLE)\n",
    "cnts = imutils.grab_contours(cnts)\n",
    "print(\"I found {} black shapes\".format(len(cnts)))\n",
    "cv2.imshow(\"Mask\", shapeMask)\n",
    " \n",
    "# loop over the contours\n",
    "for c in cnts:\n",
    "\t# draw the contour and show it\n",
    "\tcv2.drawContours(image, [c], -1, (0, 255, 0), 2)\n",
    "\tcv2.imshow(\"Image\", image)\n",
    "\tcv2.waitKey(0)"
   ]
  }
 ],
 "metadata": {
  "kernelspec": {
   "display_name": "Python 3",
   "language": "python",
   "name": "python3"
  },
  "language_info": {
   "codemirror_mode": {
    "name": "ipython",
    "version": 3
   },
   "file_extension": ".py",
   "mimetype": "text/x-python",
   "name": "python",
   "nbconvert_exporter": "python",
   "pygments_lexer": "ipython3",
   "version": "3.7.3"
  }
 },
 "nbformat": 4,
 "nbformat_minor": 2
}
