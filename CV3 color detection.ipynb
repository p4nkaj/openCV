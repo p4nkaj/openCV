{
 "cells": [
  {
   "cell_type": "code",
   "execution_count": 5,
   "metadata": {},
   "outputs": [],
   "source": [
    "import cv2\n",
    "import imutils\n",
    "import numpy as np"
   ]
  },
  {
   "cell_type": "code",
   "execution_count": 2,
   "metadata": {},
   "outputs": [],
   "source": [
    "image=cv2.imread('pp2.jpg')\n"
   ]
  },
  {
   "cell_type": "code",
   "execution_count": 3,
   "metadata": {},
   "outputs": [],
   "source": [
    "# define the list of boundaries\n",
    "boundaries = [\n",
    "\t([17, 15, 100], [50, 56, 200]),\n",
    "\t([86, 31, 4], [220, 88, 50]),\n",
    "\t([25, 146, 190], [62, 174, 250]),\n",
    "\t([103, 86, 65], [145, 133, 128])\n",
    "]"
   ]
  },
  {
   "cell_type": "code",
   "execution_count": 6,
   "metadata": {},
   "outputs": [],
   "source": [
    "for (lower, upper) in boundaries:\n",
    "\t# create NumPy arrays from the boundaries\n",
    "\tlower = np.array(lower, dtype = \"uint8\")\n",
    "\tupper = np.array(upper, dtype = \"uint8\")\n",
    " \n",
    "\t# find the colors within the specified boundaries and apply\n",
    "\t# the mask\n",
    "\tmask = cv2.inRange(image, lower, upper)\n",
    "\toutput = cv2.bitwise_and(image, image, mask = mask)\n",
    " \n",
    "\t# show the images\n",
    "\tcv2.imshow(\"images\", np.hstack([image, output]))\n",
    "\tcv2.waitKey(0)\n",
    "cv2.destroyAllWindows()"
   ]
  },
  {
   "cell_type": "code",
   "execution_count": 17,
   "metadata": {},
   "outputs": [],
   "source": [
    "##color transfer btwn images\n",
    "import numpy as np\n",
    "import cv2\n",
    " \n",
    "def color_transfer(sources, targets):\n",
    "\t# convert the images from the RGB to L*ab* color space, being\n",
    "\t# sure to utilizing the floating point data type (note: OpenCV\n",
    "\t# expects floats to be 32-bit, so use that instead of 64-bit)\n",
    "\tsource = cv2.cvtColor(sources, cv2.COLOR_BGR2LAB).astype(\"float32\")\n",
    "\ttarget = cv2.cvtColor(targets, cv2.COLOR_BGR2LAB).astype(\"float32\")\n",
    "    # compute color statistics for the source and target images\n",
    "\t(lMeanSrc, lStdSrc, aMeanSrc, aStdSrc, bMeanSrc, bStdSrc) = image_stats(source)\n",
    "\t(lMeanTar, lStdTar, aMeanTar, aStdTar, bMeanTar, bStdTar) = image_stats(target)\n",
    " \n",
    "\t# subtract the means from the target image\n",
    "\t(l, a, b) = cv2.split(target)\n",
    "\tl -= lMeanTar\n",
    "\ta -= aMeanTar\n",
    "\tb -= bMeanTar\n",
    " \n",
    "\t# scale by the standard deviations\n",
    "\tl = (lStdTar / lStdSrc) * l\n",
    "\ta = (aStdTar / aStdSrc) * a\n",
    "\tb = (bStdTar / bStdSrc) * b\n",
    " \n",
    "\t# add in the source mean\n",
    "\tl += lMeanSrc\n",
    "\ta += aMeanSrc\n",
    "\tb += bMeanSrc\n",
    " \n",
    "\t# clip the pixel intensities to [0, 255] if they fall outside\n",
    "\t# this range\n",
    "\tl = np.clip(l, 0, 255)\n",
    "\ta = np.clip(a, 0, 255)\n",
    "\tb = np.clip(b, 0, 255)\n",
    " \n",
    "\t# merge the channels together and convert back to the RGB color\n",
    "\t# space, being sure to utilize the 8-bit unsigned integer data\n",
    "\t# type\n",
    "\ttransfer = cv2.merge([l, a, b])\n",
    "\ttransfer = cv2.cvtColor(transfer.astype(\"uint8\"), cv2.COLOR_LAB2BGR)\n",
    "\t\n",
    "\t# return the color transferred image\n",
    "\treturn transfer"
   ]
  },
  {
   "cell_type": "code",
   "execution_count": 9,
   "metadata": {},
   "outputs": [],
   "source": [
    "def image_stats(image):\n",
    "\t# compute the mean and standard deviation of each channel\n",
    "\t(l, a, b) = cv2.split(image)\n",
    "\t(lMean, lStd) = (l.mean(), l.std())\n",
    "\t(aMean, aStd) = (a.mean(), a.std())\n",
    "\t(bMean, bStd) = (b.mean(), b.std())\n",
    " \n",
    "\t# return the color statistics\n",
    "\treturn (lMean, lStd, aMean, aStd, bMean, bStd)"
   ]
  },
  {
   "cell_type": "code",
   "execution_count": 19,
   "metadata": {},
   "outputs": [],
   "source": [
    "def show_image(title, image, width=720):\n",
    "    r = width/float(image.shape[1])\n",
    "    dim = (width, int(image.shape[0]*r))\n",
    "    resized = cv2.resize(image, dim, interpolation=cv2.INTER_AREA)\n",
    "    \n",
    "    cv2.imshow(title, resized)"
   ]
  },
  {
   "cell_type": "code",
   "execution_count": 21,
   "metadata": {},
   "outputs": [],
   "source": [
    "source = cv2.imread(\"dp.jpg\")\n",
    "target = cv2.imread(\"pkj.jpg\")\n",
    "\n",
    "# transfer of color\n",
    "transfer = color_transfer(source, target)\n",
    "\n",
    "# display of image\n",
    "show_image(\"Source\", source)\n",
    "show_image(\"Target\", target)\n",
    "show_image(\"Transfer\", transfer)\n",
    "cv2.waitKey(0)\n",
    "cv2.destroyAllWindows()"
   ]
  },
  {
   "cell_type": "code",
   "execution_count": null,
   "metadata": {},
   "outputs": [],
   "source": []
  }
 ],
 "metadata": {
  "kernelspec": {
   "display_name": "Python 3",
   "language": "python",
   "name": "python3"
  },
  "language_info": {
   "codemirror_mode": {
    "name": "ipython",
    "version": 3
   },
   "file_extension": ".py",
   "mimetype": "text/x-python",
   "name": "python",
   "nbconvert_exporter": "python",
   "pygments_lexer": "ipython3",
   "version": "3.7.3"
  }
 },
 "nbformat": 4,
 "nbformat_minor": 2
}
